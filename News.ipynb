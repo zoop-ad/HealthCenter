{
 "cells": [
  {
   "cell_type": "code",
   "execution_count": 1,
   "metadata": {},
   "outputs": [],
   "source": [
    "#importing libraries\n",
    "import pandas as pd\n",
    "from bs4 import BeautifulSoup\n",
    "from urllib.request import Request,urlopen\n",
    "from selenium import webdriver"
   ]
  },
  {
   "cell_type": "code",
   "execution_count": 2,
   "metadata": {},
   "outputs": [],
   "source": [
    "#getting webpage and making object for parsing webpage\n",
    "driver = webdriver.Firefox()\n",
    "driver.get('https://www.medicalnewstoday.com/')\n",
    "soup = BeautifulSoup(driver.page_source,'html.parser')"
   ]
  },
  {
   "cell_type": "code",
   "execution_count": 3,
   "metadata": {},
   "outputs": [],
   "source": [
    "# accessing latest news box\n",
    "box = soup.find('div',attrs = {'id':'LATEST NEWS'})"
   ]
  },
  {
   "cell_type": "code",
   "execution_count": 4,
   "metadata": {},
   "outputs": [],
   "source": [
    "#accessing text part\n",
    "eachbox = box.find('ul',attrs = {'class':'css-1q1zlz3'})"
   ]
  },
  {
   "cell_type": "code",
   "execution_count": 5,
   "metadata": {},
   "outputs": [],
   "source": [
    "indi_box = eachbox.find_all('li', attrs = {'class':'css-1ib8oek'})"
   ]
  },
  {
   "cell_type": "code",
   "execution_count": 6,
   "metadata": {},
   "outputs": [
    {
     "name": "stdout",
     "output_type": "stream",
     "text": [
      "Parkinson’s: Autoimmune attack may start years before diagnosis\n",
      "https://www.medicalnewstoday.com/articles/parkinsons-disease-autoimmune-attack-may-start-years-before-diagnosis\n",
      "Fact checked by Alexandra Sanfins, Ph.D.\n",
      "\n",
      "COVID-19 live updates: Total number of cases passes 3.5 million\n",
      "https://www.medicalnewstoday.com/articles/live-updates-coronavirus-covid-19\n",
      "Fact checked by Jasmin Collier\n",
      "\n",
      "The importance of regulating mood with activities during lockdown\n",
      "https://www.medicalnewstoday.com/articles/the-importance-of-regulating-mood-during-lockdown\n",
      "Fact checked by Hannah Flynn, M.S.\n",
      "\n",
      "Review says MMR vaccine is effective, does not cause autism\n",
      "https://www.medicalnewstoday.com/articles/review-says-mmr-vaccine-is-effective-does-not-cause-autism\n",
      "Fact checked by Jessica Beake, Ph.D.\n",
      "\n",
      "Raw dog food contains drug resistant bacteria, study finds\n",
      "https://www.medicalnewstoday.com/articles/raw-dog-food-contains-drug-resistant-bacteria-study-finds\n",
      "Fact checked by Mary Cooke, Ph.D.\n",
      "\n",
      "What material is best for homemade masks?\n",
      "https://www.medicalnewstoday.com/articles/what-material-is-best-for-homemade-masks\n",
      "Fact checked by Allison Kirsop, Ph.D.\n",
      "\n",
      "Is there a link between blood infections and colorectal cancer?\n",
      "https://www.medicalnewstoday.com/articles/is-there-a-link-between-blood-infections-and-colorectal-cancer\n",
      "Fact checked by Hilary Guite, FFPH, MRCGP\n",
      "\n",
      "New drug candidate against the novel coronavirus\n",
      "https://www.medicalnewstoday.com/articles/new-drug-candidate-against-the-novel-coronavirus\n",
      "Fact checked by Isabel Godfrey\n",
      "\n",
      "COVID-19 reasons for hope: Vaccine trials take center stage\n",
      "https://www.medicalnewstoday.com/articles/covid-19-reasons-for-hope-vaccine-trials-take-center-stage\n",
      "Fact checked by Isabel Godfrey\n",
      "\n",
      "Letter from the Editor: Keeping hope\n",
      "https://www.medicalnewstoday.com/articles/letter-from-the-editor-keeping-hope\n",
      "In this month’s letter, Editorial Director Honor Whiteman talks about the mental and…\n",
      "\n"
     ]
    }
   ],
   "source": [
    "for each in indi_box:\n",
    "    headline = each.find('a',attrs = {'class':'css-ni2lnp'})\n",
    "    author = each.find('a',attrs = {'class':'css-2fdibo'})\n",
    "    print(headline.text)\n",
    "    print('https://www.medicalnewstoday.com'+headline['href'])\n",
    "    print(author.text)\n",
    "    print()"
   ]
  },
  {
   "cell_type": "code",
   "execution_count": 9,
   "metadata": {},
   "outputs": [],
   "source": [
    "box2 = soup.find('div',attrs = {'id':'Coronavirus Latest'})"
   ]
  },
  {
   "cell_type": "code",
   "execution_count": 10,
   "metadata": {},
   "outputs": [],
   "source": [
    "eachbox2 = box2.find('ul',attrs = {'class':'css-1q1zlz3'})"
   ]
  },
  {
   "cell_type": "code",
   "execution_count": 11,
   "metadata": {},
   "outputs": [],
   "source": [
    "indi_box2 = eachbox2.find_all('li', attrs = {'class':'css-1ib8oek'})\n"
   ]
  },
  {
   "cell_type": "code",
   "execution_count": 12,
   "metadata": {},
   "outputs": [
    {
     "name": "stdout",
     "output_type": "stream",
     "text": [
      "COVID-19 live updates: Total number of cases passes 3.2 million\n",
      "https://www.medicalnewstoday.com/articles/live-updates-coronavirus-covid-19\n",
      "Fact checked by Jasmin Collier\n",
      "\n",
      "COVID-19 global impact: How the coronavirus is affecting the world\n",
      "https://www.medicalnewstoday.com/articles/covid-19-global-impact-how-the-coronavirus-is-affecting-the-world\n",
      "Fact checked by Paula Field\n",
      "\n",
      "Novel coronavirus: Your questions, answered\n",
      "https://www.medicalnewstoday.com/articles/novel-coronavirus-your-questions-answered\n",
      "The global outbreak of a new coronavirus has rocked international communities. In this…\n",
      "\n",
      "Coronavirus myths explored\n",
      "https://www.medicalnewstoday.com/articles/coronavirus-myths-explored\n",
      "As the coronavirus outbreak continues, a host of misconceptions and half-truths surround…\n",
      "\n"
     ]
    }
   ],
   "source": [
    "for each in indi_box2:\n",
    "    headline = each.find('a',attrs = {'class':'css-ni2lnp'})\n",
    "    author = each.find('a',attrs = {'class':'css-2fdibo'})\n",
    "    print(headline.text)\n",
    "    print('https://www.medicalnewstoday.com'+headline['href'])\n",
    "    print(author.text)\n",
    "    print()"
   ]
  },
  {
   "cell_type": "code",
   "execution_count": null,
   "metadata": {},
   "outputs": [],
   "source": []
  }
 ],
 "metadata": {
  "kernelspec": {
   "display_name": "Python 3",
   "language": "python",
   "name": "python3"
  },
  "language_info": {
   "codemirror_mode": {
    "name": "ipython",
    "version": 3
   },
   "file_extension": ".py",
   "mimetype": "text/x-python",
   "name": "python",
   "nbconvert_exporter": "python",
   "pygments_lexer": "ipython3",
   "version": "3.7.4"
  },
  "varInspector": {
   "cols": {
    "lenName": 16,
    "lenType": 16,
    "lenVar": 40
   },
   "kernels_config": {
    "python": {
     "delete_cmd_postfix": "",
     "delete_cmd_prefix": "del ",
     "library": "var_list.py",
     "varRefreshCmd": "print(var_dic_list())"
    },
    "r": {
     "delete_cmd_postfix": ") ",
     "delete_cmd_prefix": "rm(",
     "library": "var_list.r",
     "varRefreshCmd": "cat(var_dic_list()) "
    }
   },
   "types_to_exclude": [
    "module",
    "function",
    "builtin_function_or_method",
    "instance",
    "_Feature"
   ],
   "window_display": false
  }
 },
 "nbformat": 4,
 "nbformat_minor": 2
}
